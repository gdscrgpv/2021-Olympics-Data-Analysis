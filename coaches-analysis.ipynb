import pandas as pd
ds=pd.read_excel("housing_excel.xlsx")
ds.head(5)
