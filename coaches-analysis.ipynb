import pandas as pd
ds=pd.read_excel('Coaches.xlsx')
ds.head(5)
