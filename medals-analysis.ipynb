{
  "nbformat": 4,
  "nbformat_minor": 0,
  "metadata": {
    "colab": {
      "name": "teams-analysis.ipynb",
      "provenance": []
    },
    "kernelspec": {
      "name": "python3",
      "display_name": "Python 3"
    },
    "language_info": {
      "name": "python"
    }
  },
  "cells": [
    {
      "cell_type": "code",
      "metadata": {
        "colab": {
          "base_uri": "https://localhost:8080/",
          "height": 204
        },
        "id": "YJRn0xaKSOFU",
        "outputId": "f178d551-8174-49fa-8c9a-10c9e320fb1c"
      },
      "source": [
        "import pandas as pd\n",
        "\n",
        "file =\"Medals.xlsx\"\n",
        "df = pd.read_excel(file)\n",
        "\n",
        "df.head(5)\n"
      ],
      "execution_count": 7,
      "outputs": [
        {
          "output_type": "execute_result",
          "data": {
            "text/html": [
              "<div>\n",
              "<style scoped>\n",
              "    .dataframe tbody tr th:only-of-type {\n",
              "        vertical-align: middle;\n",
              "    }\n",
              "\n",
              "    .dataframe tbody tr th {\n",
              "        vertical-align: top;\n",
              "    }\n",
              "\n",
              "    .dataframe thead th {\n",
              "        text-align: right;\n",
              "    }\n",
              "</style>\n",
              "<table border=\"1\" class=\"dataframe\">\n",
              "  <thead>\n",
              "    <tr style=\"text-align: right;\">\n",
              "      <th></th>\n",
              "      <th>Rank</th>\n",
              "      <th>Team/NOC</th>\n",
              "      <th>Gold</th>\n",
              "      <th>Silver</th>\n",
              "      <th>Bronze</th>\n",
              "      <th>Total</th>\n",
              "      <th>Rank by Total</th>\n",
              "    </tr>\n",
              "  </thead>\n",
              "  <tbody>\n",
              "    <tr>\n",
              "      <th>0</th>\n",
              "      <td>1</td>\n",
              "      <td>United States of America</td>\n",
              "      <td>39</td>\n",
              "      <td>41</td>\n",
              "      <td>33</td>\n",
              "      <td>113</td>\n",
              "      <td>1</td>\n",
              "    </tr>\n",
              "    <tr>\n",
              "      <th>1</th>\n",
              "      <td>2</td>\n",
              "      <td>People's Republic of China</td>\n",
              "      <td>38</td>\n",
              "      <td>32</td>\n",
              "      <td>18</td>\n",
              "      <td>88</td>\n",
              "      <td>2</td>\n",
              "    </tr>\n",
              "    <tr>\n",
              "      <th>2</th>\n",
              "      <td>3</td>\n",
              "      <td>Japan</td>\n",
              "      <td>27</td>\n",
              "      <td>14</td>\n",
              "      <td>17</td>\n",
              "      <td>58</td>\n",
              "      <td>5</td>\n",
              "    </tr>\n",
              "    <tr>\n",
              "      <th>3</th>\n",
              "      <td>4</td>\n",
              "      <td>Great Britain</td>\n",
              "      <td>22</td>\n",
              "      <td>21</td>\n",
              "      <td>22</td>\n",
              "      <td>65</td>\n",
              "      <td>4</td>\n",
              "    </tr>\n",
              "    <tr>\n",
              "      <th>4</th>\n",
              "      <td>5</td>\n",
              "      <td>ROC</td>\n",
              "      <td>20</td>\n",
              "      <td>28</td>\n",
              "      <td>23</td>\n",
              "      <td>71</td>\n",
              "      <td>3</td>\n",
              "    </tr>\n",
              "  </tbody>\n",
              "</table>\n",
              "</div>"
            ],
            "text/plain": [
              "   Rank                    Team/NOC  Gold  Silver  Bronze  Total  Rank by Total\n",
              "0     1    United States of America    39      41      33    113              1\n",
              "1     2  People's Republic of China    38      32      18     88              2\n",
              "2     3                       Japan    27      14      17     58              5\n",
              "3     4               Great Britain    22      21      22     65              4\n",
              "4     5                         ROC    20      28      23     71              3"
            ]
          },
          "metadata": {},
          "execution_count": 7
        }
      ]
    }
  ]
}